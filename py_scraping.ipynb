{
  "nbformat": 4,
  "nbformat_minor": 0,
  "metadata": {
    "colab": {
      "provenance": [],
      "authorship_tag": "ABX9TyORSRBooe/WglF+uB+FMwSU",
      "include_colab_link": true
    },
    "kernelspec": {
      "name": "python3",
      "display_name": "Python 3"
    },
    "language_info": {
      "name": "python"
    }
  },
  "cells": [
    {
      "cell_type": "markdown",
      "metadata": {
        "id": "view-in-github",
        "colab_type": "text"
      },
      "source": [
        "<a href=\"https://colab.research.google.com/github/iwatanabee/py_scraping_PD/blob/main/py_scraping.ipynb\" target=\"_parent\"><img src=\"https://colab.research.google.com/assets/colab-badge.svg\" alt=\"Open In Colab\"/></a>"
      ]
    },
    {
      "cell_type": "code",
      "execution_count": 72,
      "metadata": {
        "colab": {
          "base_uri": "https://localhost:8080/"
        },
        "id": "t92bfwoELpik",
        "outputId": "6c821720-10dc-45f3-f5a7-e3a6f905d248"
      },
      "outputs": [
        {
          "output_type": "stream",
          "name": "stdout",
          "text": [
            "[<h1 class=\"p-archiveHeader__title\" itemprop=\"name\">【パズドラ】今日と明日の降臨一覧【1/13更新】</h1>]\n",
            "[<p class=\"p-gameHeader__game_title\">パズドラ攻略Wiki</p>, <p class=\"a-paragraph\">★<a class=\"a-link track_nier\" data-track-nier-keyword=\"announce_link\" data-track-nier-value=\"【新キャラ5体】幻画師の当たりと評価\" href=\"/archives/439579\">【新キャラ5体】幻画師の当たりと評価</a><br/>☆<a class=\"a-link track_nier\" data-track-nier-keyword=\"announce_link\" data-track-nier-value=\"【新キャラ3体】正月ガチャ2023の当たりと評価\" href=\"/archives/41726\">【新キャラ3体】正月ガチャ2023の当たりと評価</a><br/>★<a class=\"a-link track_nier\" data-track-nier-keyword=\"announce_link\" data-track-nier-value=\"【おすすめ】正月ガチャで交換すべきキャラ\" href=\"/archives/251391\">【おすすめ】正月ガチャで交換すべきキャラ</a><br/>☆<a class=\"a-link track_nier\" data-track-nier-keyword=\"announce_link\" data-track-nier-value=\"【高難度】お正月コロシアムの周回パーティと攻略\" href=\"/archives/505631\">【高難度】お正月コロシアムの周回パーティと攻略</a></p>, <p class=\"a-paragraph\">パズドラの降臨ダンジョンを毎日更新しています。明日の降臨予定や、各降臨ダンジョン毎の取得経験値量を掲載しているので、ぜひ参考にして下さい。</p>, <p></p>, <p><svg aria-hidden=\"true\" class=\"svg-inline--fa fa-list-ul fa-w-16\" data-icon=\"list-ul\" data-prefix=\"fas\" focusable=\"false\" role=\"img\" viewbox=\"0 0 512 512\" xmlns=\"http://www.w3.org/2000/svg\"><path d=\"M48 48a48 48 0 1 0 48 48 48 48 0 0 0-48-48zm0 160a48 48 0 1 0 48 48 48 48 0 0 0-48-48zm0 160a48 48 0 1 0 48 48 48 48 0 0 0-48-48zm448 16H176a16 16 0 0 0-16 16v32a16 16 0 0 0 16 16h320a16 16 0 0 0 16-16v-32a16 16 0 0 0-16-16zm0-320H176a16 16 0 0 0-16 16v32a16 16 0 0 0 16 16h320a16 16 0 0 0 16-16V80a16 16 0 0 0-16-16zm0 160H176a16 16 0 0 0-16 16v32a16 16 0 0 0 16 16h320a16 16 0 0 0 16-16v-32a16 16 0 0 0-16-16z\"></path></svg>目次</p>, <p>ラードラ降臨いつ？</p>, <p>アポピス降臨ない</p>, <p class=\"p-writerProfileLink__name\">パズドラ攻略@Game8</p>, <p class=\"c-infoModal__title\"><span><i class=\"fa fa-thumbs-up\"></i>いいね機能</span></p>, <p class=\"c-infoModal__text\">コメントを「いいね」すると保存できるよ。<br>会員登録で<a href=\"/users/lp\">いろんな機能が使える！</a></br></p>, <p class=\"p-archiveFeedbackForm__text\">ゲームエイトをご利用いただきありがとうございます。</p>, <p class=\"p-archiveFeedbackForm__text\">記事をより良くしていくために、<b>「今日と明日の降臨一覧【1/13更新】」</b>に関する間違いの指摘やご意見、感想などを募集しています。</p>, <p class=\"p-archiveFeedbackForm__text\">不具合のご報告の際には、どのような状況でどのような症状が起きたかを可能な限り詳細にご記入ください。</p>, <p class=\"p-archiveFeedbackForm__text\">この内容で送信しますか?</p>, <p class=\"p-archiveBreadcrumbItem__inner\"><a class=\"p-archiveBreadcrumbItem__elem p-archiveBreadcrumbItem__elem--first\" href=\"https://game8.jp/games/5\">パズドラ攻略Wiki</a></p>, <p class=\"p-archiveBreadcrumbItem__inner\"><span class=\"p-archiveBreadcrumbItem__elem p-archiveBreadcrumbItem__elem--last\">今日と明日の降臨一覧【1/13更新】</span></p>, <p class=\"c-sideGameList__item_title\">ポケモンSV攻略｜スカーレットバイオレット</p>, <p class=\"c-sideGameList__item_title\">スプラトゥーン3攻略ガイド｜スプラ3</p>, <p class=\"c-sideGameList__item_title\">ワンピースオデッセイ攻略</p>, <p class=\"c-sideGameList__item_title\">ドラクエトレジャーズ攻略</p>, <p class=\"c-sideGameList__item_title\">ドラクエ10オフライン攻略サイト</p>, <p class=\"c-sideGameList__item_title\">モンハンライズサンブレイク攻略｜ライズ</p>, <p class=\"c-sideGameList__item_title\">ウマ娘攻略ガイド</p>, <p class=\"c-sideGameList__item_title\">パズドラ攻略Wiki</p>, <p class=\"c-sideGameList__item_title\">モンスト攻略Wiki</p>, <p class=\"c-sideGameList__item_title\">ドラクエウォーク攻略Wiki</p>, <p class=\"c-sideGameList__item_title\">原神（げんしん）攻略Wiki</p>, <p class=\"c-sideGameList__item_title\">FFBE幻影戦争攻略Wiki</p>, <p class=\"c-sideGameList__item_title\">率土之濱-大三国志攻略Wiki</p>, <p class=\"c-sideGameList__item_title\">ぷよクエ（ぷよぷよクエスト）攻略Wiki</p>, <p class=\"c-sideGameList__item_title\">崩壊3rd攻略Wiki</p>, <p class=\"c-sideGameList__item_title\">ファンキル（ファントム オブ キル）攻略Wiki</p>, <p class=\"c-sideGameList__item_title\">ヘブバン（ヘブンバーンズレッド）攻略Wiki</p>, <p class=\"c-sideGameList__item_title\">PSO2 ニュージェネシス（NGS）攻略Wiki</p>, <p class=\"c-sideGameList__item_title\">パニグレ攻略Wiki</p>, <p class=\"c-sideGameList__item_title\">タガタメ攻略Wiki｜誰ガ為のアルケミスト</p>, <p class=\"c-sideGameList__item_title\">オクトパストラベラー大陸の覇者攻略Wiki｜オクトラ</p>, <p class=\"c-sideGameList__item_title\">NARAKA攻略Wiki</p>, <p class=\"c-copyright\">© GungHo Online Entertainment, Inc. All Rights Reserved.<br/><br/>当サイトのコンテンツ内で使用しているゲーム画像の著作権その他の知的財産権は、当該ゲームの提供元に帰属しています。<br/>当サイトはGame8編集部が独自に作成したコンテンツを提供しております。<br/>当サイトが掲載しているデータ、画像等の無断使用・無断転載は固くお断りしております。</p>, <p class=\"l-footerGame__col_title\">ゲームアプリ攻略</p>, <p class=\"l-footerGame__col_title\">ピックアップタイトル</p>, <p class=\"l-footerCopyright__left\">Game8[ゲームエイト] - 【日本最大級】みんなの総合ゲーム攻略プラットフォーム</p>, <p class=\"l-footerCopyright__right\">© 2014 Game8, Inc.</p>]\n"
          ]
        }
      ],
      "source": [
        "import requests\n",
        "from bs4 import BeautifulSoup\n",
        "\n",
        "url = \"https://game8.jp/archives/19436\"\n",
        "\n",
        "r=requests.get(url)\n",
        "\n",
        "soup = BeautifulSoup(r.content, \"html.parser\")\n",
        " \n",
        "print(soup.select(\"h1\"))\n",
        "print(soup.select(\"p\"))\n",
        "\n"
      ]
    },
    {
      "cell_type": "code",
      "source": [
        "elems = soup.select('body > div.l-content.js-end-trigger > div.l-3col > div.l-3colMain > div.l-3colMain__center.l-3colMain__center--shadow > div.p-archiveHeader > h1')"
      ],
      "metadata": {
        "id": "OmvB7SnTNHAf"
      },
      "execution_count": 73,
      "outputs": []
    },
    {
      "cell_type": "code",
      "source": [
        "elems[0].contents[0]"
      ],
      "metadata": {
        "colab": {
          "base_uri": "https://localhost:8080/",
          "height": 36
        },
        "id": "ZPsdsotoNq7-",
        "outputId": "e5740681-ef8d-4029-a8e3-6d3467bcbca9"
      },
      "execution_count": 74,
      "outputs": [
        {
          "output_type": "execute_result",
          "data": {
            "text/plain": [
              "'【パズドラ】今日と明日の降臨一覧【1/13更新】'"
            ],
            "application/vnd.google.colaboratory.intrinsic+json": {
              "type": "string"
            }
          },
          "metadata": {},
          "execution_count": 74
        }
      ]
    },
    {
      "cell_type": "code",
      "source": [
        "elems1 = soup.select('body > div.l-content.js-end-trigger > div.l-3col > div.l-3colMain > div.l-3colMain__center.l-3colMain__center--shadow > div.archive-style-wrapper > table:nth-of-type(1) > tbody')"
      ],
      "metadata": {
        "id": "ZgY5fYi-OnXL"
      },
      "execution_count": 39,
      "outputs": []
    },
    {
      "cell_type": "code",
      "source": [
        "elems2 = elems1[0].find_all(\"a\")\n",
        "elems2"
      ],
      "metadata": {
        "colab": {
          "base_uri": "https://localhost:8080/"
        },
        "id": "RUJrUqhfO3JG",
        "outputId": "fda8d216-6bd0-4ec3-a7f8-4d860e9b228b"
      },
      "execution_count": 75,
      "outputs": [
        {
          "output_type": "execute_result",
          "data": {
            "text/plain": [
              "[<a class=\"a-link\" href=\"https://game8.jp/archives/269222\">レイワ降臨</a>,\n",
              " <a class=\"a-link\" href=\"https://game8.jp/archives/213649\">ビッグフット降臨</a>,\n",
              " <a class=\"a-link\" href=\"https://game8.jp/archives/199809\">クロガネマル降臨</a>,\n",
              " <a class=\"a-link\" href=\"https://game8.jp/archives/132819\">デモニアス降臨</a>,\n",
              " <a class=\"a-link\" href=\"https://game8.jp/archives/62049\">ミル降臨</a>,\n",
              " <a class=\"a-link\" href=\"https://game8.jp/archives/18397\">ディアゴルドス降臨</a>,\n",
              " <a class=\"a-link\" href=\"https://game8.jp/archives/41149\">サンタクロース降臨</a>,\n",
              " <a class=\"a-link\" href=\"https://game8.jp/archives/22766\">かぐや姫降臨</a>]"
            ]
          },
          "metadata": {},
          "execution_count": 75
        }
      ]
    },
    {
      "cell_type": "code",
      "source": [
        "for elem in elems2:\n",
        "  print(elem.contents[0])"
      ],
      "metadata": {
        "colab": {
          "base_uri": "https://localhost:8080/"
        },
        "id": "n29DdELrTUU_",
        "outputId": "85123725-7714-4b31-c82e-8f4503c58f89"
      },
      "execution_count": 76,
      "outputs": [
        {
          "output_type": "stream",
          "name": "stdout",
          "text": [
            "レイワ降臨\n",
            "ビッグフット降臨\n",
            "クロガネマル降臨\n",
            "デモニアス降臨\n",
            "ミル降臨\n",
            "ディアゴルドス降臨\n",
            "サンタクロース降臨\n",
            "かぐや姫降臨\n"
          ]
        }
      ]
    },
    {
      "cell_type": "code",
      "source": [
        "print(elems[0].contents[0])\n",
        "\n",
        "for elem in elems2:\n",
        "  print(elem.contents[0])"
      ],
      "metadata": {
        "colab": {
          "base_uri": "https://localhost:8080/"
        },
        "id": "7M2DT8KtWwCp",
        "outputId": "ab345ad8-3c65-46f6-9e43-ceaabbfa8338"
      },
      "execution_count": 77,
      "outputs": [
        {
          "output_type": "stream",
          "name": "stdout",
          "text": [
            "【パズドラ】今日と明日の降臨一覧【1/13更新】\n",
            "レイワ降臨\n",
            "ビッグフット降臨\n",
            "クロガネマル降臨\n",
            "デモニアス降臨\n",
            "ミル降臨\n",
            "ディアゴルドス降臨\n",
            "サンタクロース降臨\n",
            "かぐや姫降臨\n"
          ]
        }
      ]
    },
    {
      "cell_type": "code",
      "source": [
        "import requests\n",
        "from bs4 import BeautifulSoup\n",
        "\n",
        "url = \"https://game8.jp/archives/19436\"\n",
        "\n",
        "r=requests.get(url)\n",
        "\n",
        "soup = BeautifulSoup(r.content, \"html.parser\")\n",
        "\n",
        "elems = soup.select('body > div.l-content.js-end-trigger > div.l-3col > div.l-3colMain > div.l-3colMain__center.l-3colMain__center--shadow > div.p-archiveHeader > h1')\n",
        "elems1 = soup.select('body > div.l-content.js-end-trigger > div.l-3col > div.l-3colMain > div.l-3colMain__center.l-3colMain__center--shadow > div.archive-style-wrapper > table:nth-of-type(1) > tbody')\n",
        "\n",
        "elems2 = elems1[0].find_all(\"a\")\n",
        "\n",
        "print(elems[0].contents[0])\n",
        "for elem in elems2:\n",
        "  print(elem.contents[0])"
      ],
      "metadata": {
        "colab": {
          "base_uri": "https://localhost:8080/"
        },
        "id": "J4-u-_QeXNrP",
        "outputId": "a454b554-2202-49cb-c450-9bc9152181d0"
      },
      "execution_count": 78,
      "outputs": [
        {
          "output_type": "stream",
          "name": "stdout",
          "text": [
            "【パズドラ】今日と明日の降臨一覧【1/13更新】\n",
            "レイワ降臨\n",
            "ビッグフット降臨\n",
            "クロガネマル降臨\n",
            "デモニアス降臨\n",
            "ミル降臨\n",
            "ディアゴルドス降臨\n",
            "サンタクロース降臨\n",
            "かぐや姫降臨\n"
          ]
        }
      ]
    }
  ]
}